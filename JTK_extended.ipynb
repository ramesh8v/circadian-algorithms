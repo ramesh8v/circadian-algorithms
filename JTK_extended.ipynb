{
 "cells": [
  {
   "cell_type": "code",
   "execution_count": 13,
   "id": "initial_id",
   "metadata": {
    "ExecuteTime": {
     "end_time": "2024-06-12T18:50:10.998561Z",
     "start_time": "2024-06-12T18:50:10.744589Z"
    },
    "collapsed": true
   },
   "outputs": [],
   "source": [
    "import numpy as np\n",
    "import matplotlib.pyplot as plt\n",
    "from scipy.stats import rankdata, norm\n",
    "from itertools import combinations\n",
    "import pandas as pd\n",
    "from functools import lru_cache"
   ]
  },
  {
   "cell_type": "code",
   "execution_count": 2,
   "id": "1db6ee174d2e0b99",
   "metadata": {
    "ExecuteTime": {
     "end_time": "2024-06-12T18:46:28.613059Z",
     "start_time": "2024-06-12T18:46:28.609104Z"
    }
   },
   "outputs": [],
   "source": [
    "# Adaptive precision summation algorithms\n",
    "def fast_two_sum(a, b):\n",
    "    \"\"\"Fast two-sum algorithm with known abs(a) >= abs(b).\"\"\"\n",
    "    x = a + b\n",
    "    bv = x - a\n",
    "    y = b - bv\n",
    "    if y == 0:\n",
    "        return x\n",
    "    return x, y"
   ]
  },
  {
   "cell_type": "code",
   "execution_count": 3,
   "id": "398472b931b1464d",
   "metadata": {
    "ExecuteTime": {
     "end_time": "2024-06-12T18:46:28.621832Z",
     "start_time": "2024-06-12T18:46:28.614449Z"
    }
   },
   "outputs": [],
   "source": [
    "def two_sum(a, b):\n",
    "    \"\"\"Two-sum algorithm with unknown order.\"\"\"\n",
    "    x = a + b\n",
    "    bv = x - a\n",
    "    av = x - bv\n",
    "    br = b - bv\n",
    "    ar = a - av\n",
    "    y = ar + br\n",
    "    if y == 0:\n",
    "        return x\n",
    "    return x, y"
   ]
  },
  {
   "cell_type": "code",
   "execution_count": 4,
   "id": "1326d3ef0822a536",
   "metadata": {
    "ExecuteTime": {
     "end_time": "2024-06-12T18:46:28.628127Z",
     "start_time": "2024-06-12T18:46:28.623589Z"
    }
   },
   "outputs": [],
   "source": [
    "def expansion_sum(g):\n",
    "    \"\"\"Expansion sum algorithm.\"\"\"\n",
    "    g = sorted(g, key=abs)\n",
    "    z = fast_two_sum(g[1], g[0])\n",
    "    q = z[0]\n",
    "    h = [z[1]] if len(z) > 1 else []\n",
    "    n = len(g)\n",
    "    if n == 2:\n",
    "        return h + [q]\n",
    "    for i in range(2, n):\n",
    "        z = two_sum(q, g[i])\n",
    "        q = z[0]\n",
    "        if len(z) > 1:\n",
    "            h.append(z[1])\n",
    "    return h + [q]"
   ]
  },
  {
   "cell_type": "code",
   "execution_count": 5,
   "id": "4eea397d67eaaad2",
   "metadata": {
    "ExecuteTime": {
     "end_time": "2024-06-12T18:46:28.634213Z",
     "start_time": "2024-06-12T18:46:28.629218Z"
    }
   },
   "outputs": [],
   "source": [
    "# Hodges-Lehmann estimator of the median\n",
    "def hlm(z):\n",
    "    zz = np.add.outer(z, z)\n",
    "    zz = zz[np.tril_indices(len(z), k=-1)]\n",
    "    return np.median(zz) / 2"
   ]
  },
  {
   "cell_type": "code",
   "execution_count": 6,
   "id": "27d6d7015f502503",
   "metadata": {
    "ExecuteTime": {
     "end_time": "2024-06-12T18:46:29.036856Z",
     "start_time": "2024-06-12T18:46:29.031910Z"
    }
   },
   "outputs": [],
   "source": [
    "# JTK distribution calculation using the Harding algorithm\n",
    "@lru_cache(None)\n",
    "def jtkdist(timepoints, reps=None):\n",
    "    if reps is None:\n",
    "        reps = [1] * len(timepoints)\n",
    "    n = sum(reps)\n",
    "    comb = list(combinations(range(n), n // 2))\n",
    "    ranks = np.array([sum(timepoints[i] for i in c) for c in comb])\n",
    "    dist, counts = np.unique(ranks, return_counts=True)\n",
    "    return dist, counts"
   ]
  },
  {
   "cell_type": "code",
   "execution_count": 15,
   "id": "235c984c8552c1d0",
   "metadata": {
    "ExecuteTime": {
     "end_time": "2024-06-12T18:51:11.690993Z",
     "start_time": "2024-06-12T18:51:11.684174Z"
    }
   },
   "outputs": [],
   "source": [
    "# Main JTK algorithm\n",
    "def runJTK(indata, JTKtime, minper=20, maxper=28):\n",
    "    \n",
    "    # Helper function to generate periodic templates\n",
    "    def generate_templates(timepoints, minper, maxper):\n",
    "        templates = []\n",
    "        for period in range(minper, maxper + 1):\n",
    "            t = np.linspace(0, 1, len(timepoints), endpoint=False)\n",
    "            wave = np.sin(2 * np.pi * t * period)\n",
    "            templates.append(wave)\n",
    "        return templates\n",
    "\n",
    "\n",
    "    # Normalize the input data\n",
    "    def normalize_data(data):\n",
    "        ranks = rankdata(data, method='average')\n",
    "        return (ranks - np.mean(ranks)) / np.std(ranks)\n",
    "\n",
    "    # Calculate JTK score\n",
    "    def calculate_jtk_score(data, template):\n",
    "        if data.ndim == 1:\n",
    "            data = data.reshape(1, -1)\n",
    "        scores = np.matmul(data, template.reshape(-1, 1))\n",
    "        return np.max(scores), np.min(scores)\n",
    "\n",
    "\n",
    "    # Load and normalize data\n",
    "    data = pd.DataFrame(indata)\n",
    "    normalized_data = data.apply(normalize_data, axis=0)\n",
    "\n",
    "    # Generate periodic templates\n",
    "    templates = generate_templates(JTKtime, minper, maxper)\n",
    "\n",
    "    # Calculate null distribution\n",
    "    null_dist_values, null_dist_counts = jtkdist(tuple(JTKtime), reps=None)\n",
    "\n",
    "    # Calculate scores and p-values\n",
    "    results = []\n",
    "    for column in normalized_data.columns:\n",
    "        series = normalized_data[column].values\n",
    "        max_scores, min_scores = [], []\n",
    "        for template in templates:\n",
    "            max_score, min_score = calculate_jtk_score(series, template)\n",
    "            max_scores.append(max_score)\n",
    "            min_scores.append(min_score)\n",
    "\n",
    "        max_score = max(max_scores)\n",
    "        min_score = min(min_scores)\n",
    "\n",
    "        # More accurate p-value calculation (right-tailed for max, left-tailed for min)\n",
    "        max_pvalue = (np.sum(null_dist_counts[null_dist_values >= max_score]) + 1) / (np.sum(null_dist_counts) + 1)\n",
    "        min_pvalue = (np.sum(null_dist_counts[null_dist_values <= min_score]) + 1) / (np.sum(null_dist_counts) + 1)\n",
    "\n",
    "        results.append({\n",
    "            'gene': column,\n",
    "            'max_score': max_score,\n",
    "            'min_score': min_score,\n",
    "            'max_pvalue': max_pvalue,\n",
    "            'min_pvalue': min_pvalue\n",
    "        })\n",
    "\n",
    "    return (pd.DataFrame(results), templates)"
   ]
  },
  {
   "cell_type": "code",
   "execution_count": 16,
   "id": "517b45b86c36c3c0",
   "metadata": {
    "ExecuteTime": {
     "end_time": "2024-06-12T18:51:14.963193Z",
     "start_time": "2024-06-12T18:51:14.958846Z"
    }
   },
   "outputs": [],
   "source": [
    "def generate_data(time_points):\n",
    "    period = 24  \n",
    "    amplitude = 2  \n",
    "    phase_shift = np.random.uniform(0, period)\n",
    "    data =  amplitude * np.sin(2 * np.pi * (np.array(time_points) - phase_shift) / period)\n",
    "    data += np.random.normal(0, 0.5, len(data))\n",
    "    return data"
   ]
  },
  {
   "cell_type": "code",
   "execution_count": 17,
   "id": "6aacc315cd6b5aa3",
   "metadata": {
    "ExecuteTime": {
     "end_time": "2024-06-12T18:51:17.154760Z",
     "start_time": "2024-06-12T18:51:17.149777Z"
    }
   },
   "outputs": [],
   "source": [
    "JTKtime = np.arange(0,24,2)\n",
    "\n",
    "# Number of genes\n",
    "num_genes = 1\n",
    "data = pd.DataFrame(np.random.randn(len(JTKtime), num_genes), columns=[f\"gene_{i+1}\" for i in range(num_genes)])\n",
    "\n",
    "# Add some circadian rhythm to a few genes\n",
    "for i in range(1,num_genes):\n",
    "    data[f'gene_{i}'] += generate_data(JTKtime)"
   ]
  },
  {
   "cell_type": "code",
   "execution_count": 14,
   "id": "1debee8c2a0955a7",
   "metadata": {
    "ExecuteTime": {
     "end_time": "2024-06-12T18:50:21.435929Z",
     "start_time": "2024-06-12T18:50:21.325119Z"
    }
   },
   "outputs": [
    {
     "data": {
      "text/plain": [
       "[<matplotlib.lines.Line2D at 0x7fbdc158b530>]"
      ]
     },
     "execution_count": 14,
     "metadata": {},
     "output_type": "execute_result"
    },
    {
     "data": {
      "image/png": "[encoded data removed]",
      "text/plain": [
       "<Figure size 640x480 with 1 Axes>"
      ]
     },
     "metadata": {},
     "output_type": "display_data"
    }
   ],
   "source": [
    "plt.plot(data)"
   ]
  },
  {
   "cell_type": "code",
   "execution_count": 18,
   "id": "5f7b96f77df7a48c",
   "metadata": {
    "ExecuteTime": {
     "end_time": "2024-06-12T18:51:24.481322Z",
     "start_time": "2024-06-12T18:51:24.475240Z"
    }
   },
   "outputs": [],
   "source": [
    "result, templates = runJTK(data, JTKtime)"
   ]
  },
  {
   "cell_type": "code",
   "execution_count": 19,
   "id": "1dceac9e1560ae9e",
   "metadata": {
    "ExecuteTime": {
     "end_time": "2024-06-12T18:51:25.323790Z",
     "start_time": "2024-06-12T18:51:25.315613Z"
    }
   },
   "outputs": [
    {
     "data": {
      "text/html": [
       "<div>\n",
       "<style scoped>\n",
       "    .dataframe tbody tr th:only-of-type {\n",
       "        vertical-align: middle;\n",
       "    }\n",
       "\n",
       "    .dataframe tbody tr th {\n",
       "        vertical-align: top;\n",
       "    }\n",
       "\n",
       "    .dataframe thead th {\n",
       "        text-align: right;\n",
       "    }\n",
       "</style>\n",
       "<table border=\"1\" class=\"dataframe\">\n",
       "  <thead>\n",
       "    <tr style=\"text-align: right;\">\n",
       "      <th></th>\n",
       "      <th>gene</th>\n",
       "      <th>max_score</th>\n",
       "      <th>min_score</th>\n",
       "      <th>max_pvalue</th>\n",
       "      <th>min_pvalue</th>\n",
       "    </tr>\n",
       "  </thead>\n",
       "  <tbody>\n",
       "    <tr>\n",
       "      <th>0</th>\n",
       "      <td>gene_1</td>\n",
       "      <td>5.723647</td>\n",
       "      <td>-5.723647</td>\n",
       "      <td>1.0</td>\n",
       "      <td>0.001081</td>\n",
       "    </tr>\n",
       "  </tbody>\n",
       "</table>\n",
       "</div>"
      ],
      "text/plain": [
       "     gene  max_score  min_score  max_pvalue  min_pvalue\n",
       "0  gene_1   5.723647  -5.723647         1.0    0.001081"
      ]
     },
     "execution_count": 19,
     "metadata": {},
     "output_type": "execute_result"
    }
   ],
   "source": [
    "result"
   ]
  },
  {
   "cell_type": "code",
   "execution_count": 33,
   "id": "d31448b6e2cf2e15",
   "metadata": {
    "ExecuteTime": {
     "end_time": "2024-06-12T18:55:32.137913Z",
     "start_time": "2024-06-12T18:55:32.025265Z"
    }
   },
   "outputs": [
    {
     "data": {
      "text/plain": [
       "[<matplotlib.lines.Line2D at 0x7fbdb35ed4f0>]"
      ]
     },
     "execution_count": 33,
     "metadata": {},
     "output_type": "execute_result"
    },
    {
     "data": {
      "image/png": "[encoded data removed]",
      "text/plain": [
       "<Figure size 640x480 with 1 Axes>"
      ]
     },
     "metadata": {},
     "output_type": "display_data"
    }
   ],
   "source": [
    "plt.plot(templates[8])"
   ]
  },
  {
   "cell_type": "code",
   "execution_count": null,
   "id": "3d918be6ab101bd1",
   "metadata": {},
   "outputs": [],
   "source": []
  }
 ],
 "metadata": {
  "kernelspec": {
   "display_name": "Python 3",
   "language": "python",
   "name": "python3"
  },
  "language_info": {
   "codemirror_mode": {
    "name": "ipython",
    "version": 2
   },
   "file_extension": ".py",
   "mimetype": "text/x-python",
   "name": "python",
   "nbconvert_exporter": "python",
   "pygments_lexer": "ipython2",
   "version": "2.7.6"
  }
 },
 "nbformat": 4,
 "nbformat_minor": 5
}
